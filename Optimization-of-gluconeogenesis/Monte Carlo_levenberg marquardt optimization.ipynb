{
 "metadata": {
  "name": ""
 },
 "nbformat": 3,
 "nbformat_minor": 0,
 "worksheets": [
  {
   "cells": [
    {
     "cell_type": "code",
     "collapsed": false,
     "input": [
      "# coding: utf-8\n",
      "__author__ = 'Nonchalant Dave'\n",
      "import pysces\n",
      "import numpy as np\n",
      "from lmfit import minimize, Parameters\n",
      "import matplotlib.pyplot as plt\n",
      "\n",
      "# Instantiate model object\n",
      "mod = pysces.model('kouril3')"
     ],
     "language": "python",
     "metadata": {},
     "outputs": [
      {
       "output_type": "stream",
       "stream": "stdout",
       "text": [
        "Assuming extension is .psc\n",
        "Using model directory: /home/nonchalant/Pysces/psc\n",
        "/home/nonchalant/Pysces/psc/kouril3.psc loading ..... \n",
        "Parsing file: /home/nonchalant/Pysces/psc/kouril3.psc\n",
        "Info: \"KaldF6P\" has been initialised but does not occur in a rate equation\n",
        "Info: \"numpy.pi\" has been initialised but does not occur in a rate equation\n",
        "Info: \"ga\" has been initialised but does not occur in a rate equation\n",
        "Info: \"default_compartment\" has been initialised but does not occur in a rate equation\n",
        " \n",
        "Calculating L matrix . . . . . . . . .  done.\n",
        "Calculating K matrix . . . . . . . . .  done.\n",
        " \n"
       ]
      }
     ],
     "prompt_number": 118
    },
    {
     "cell_type": "code",
     "collapsed": false,
     "input": [
      "# Variable declarations\n",
      "enzyme_total = mod.protGAPDH+mod.protALDPase+mod.protPGK+mod.protTIM\n",
      "all_parameters = mod.parameters\n",
      "enzyme_names = []\n",
      "Params = []\n",
      "F6ps = []"
     ],
     "language": "python",
     "metadata": {},
     "outputs": [],
     "prompt_number": 119
    },
    {
     "cell_type": "code",
     "collapsed": false,
     "input": [
      "# Extract enzyme names from the model. !not important!\n",
      "for word in all_parameters:\n",
      "    if word.startswith('prot'):\n",
      "        enzyme_names.append(word)\n",
      "print \"The system will be optimized by altering the relative enzyme activities of the following enzymes: \",enzyme_names"
     ],
     "language": "python",
     "metadata": {},
     "outputs": [
      {
       "output_type": "stream",
       "stream": "stdout",
       "text": [
        "The system will be optimized by altering the relative enzyme activities of the following enzymes:  ['protALDPase', 'protGAPDH', 'protPGK', 'protTIM']\n"
       ]
      }
     ],
     "prompt_number": 120
    },
    {
     "cell_type": "code",
     "collapsed": false,
     "input": [
      "#Run the pysces model simulation, taking in a list of parameters between 0 & 1 ('p'), as well as the initial total enzyme concentration observed in the model ('enzyme_total'):\n",
      "def simulate(p,enzyme_total):\n",
      "\t#Setting enzyme concentrations in the model to the newly assigned parameter values: \n",
      "\t#The constraint of keeping the total protein concentration constant is met by multiplying the total starting enzyme concentration (enzyme_total) by the newly assigned parameter value (represented as a fraction of the total for the parameter set)\n",
      "    mod.protALDPase = enzyme_total*p[0]/(p[0]+p[1]+p[2]+p[3])\n",
      "    mod.protGAPDH = enzyme_total*p[1]/(p[0]+p[1]+p[2]+p[3])\n",
      "    mod.protPGK = enzyme_total*p[2]/(p[0]+p[1]+p[2]+p[3])\n",
      "    mod.protTIM = enzyme_total*p[3]/(p[0]+p[1]+p[2]+p[3])\n",
      "                  \n",
      "    #Run the PYSCES simulation for 200 seconds:\n",
      "    mod.doSim(end=200.0, points=200.0)\n",
      "   \n",
      "    #A list of the F6P values at each time point is created from the results of the simulation and stored in 'f6p_all'\n",
      "    f6p_all = mod.data_sim.getSimData('f6p')\n",
      "\n",
      "    #The maximum F6P value is selected from 'f6p_all' and stored in 'f6p_max'\n",
      "    f6p_max = max([col[1] for col in f6p_all])\n",
      "    #The function returns a single value, the maximum F6P concentration observed over 200 seconds for the simulation\n",
      "    return round(f6p_max, 5)"
     ],
     "language": "python",
     "metadata": {},
     "outputs": [],
     "prompt_number": 121
    },
    {
     "cell_type": "code",
     "collapsed": false,
     "input": [
      "#The objective function to be minimized using the Levenberg\u2013Marquardt algorithm, taking in parameter object 'pi':\n",
      "def objFunction(pi):\n",
      "\t#The list comprehension below is used as an efficient way of storing a list of parameters from the parameter object 'pi'\n",
      "    param_list = [pi[i].value for i in ['protALDPase','protGAPDH','protPGK','protTIM']]\n",
      "    etot = 0.04995\n",
      "    #Run the simulation function and store the F6P value it returns\n",
      "    res = simulate(param_list,etot)\n",
      "    result = [res]\n",
      "    #The objective function returns an array of 4 identical F6P values. The values are raised to the power of negative 1 and returned to the LVM algorithm to be minimized (ie: F6P is maximized) in the successive iteration(s)\n",
      "    #Because the minimize function passes 4 parameters to the objective function, it requires an array of 4 values to be returned. Therefore the F6P value retrieved from the smulation after each iteration is simply repeated 4 times in the array and returned to the minimize function\n",
      "    return np.resize(np.array([result[0]**(-1)]), 4)\n"
     ],
     "language": "python",
     "metadata": {},
     "outputs": [],
     "prompt_number": 122
    },
    {
     "cell_type": "code",
     "collapsed": false,
     "input": [
      "#**********Monte Carlo approach to finding optimal parameter values**********\n",
      "\n",
      "#Generate 1000 sets of random parameters between 0 and 1 and run the simulation\n",
      "for iteration in range(300):\n",
      "\t#Create a temporary list of 4 random parameters between 0 and 1 (the range 0 - 1 was chosen arbitrarily - the independent values are not significant as they are represented as a fraction of the total in the simulation)\n",
      "    #Note that for each iteration (ie: the creation of a set of 4 random parameters and the running of the simulation with these parameters), the parameter list 'p' is overwritten\n",
      "    p = np.random.uniform(0,1,size=4)\n",
      "    p = enzyme_total*(p/(p[0]+p[1]+p[2]+p[3]))\n",
      "    \n",
      "    #Add the random parameter set 'p' to a permanent list of all random parameter sets which will be used for sorting later\n",
      "    Params.append(p)\n",
      "\n",
      "    #Run the simulation using the list of random parameters and the total enzyme concentration to be used as the constraint in the simulation. The resulting F6P value from the simulation is stored in the temporary variable 'f6p' which will be overwritten with each iteration\n",
      "    f6p = simulate(p,enzyme_total)\n",
      "    #The value stored in 'f6p' is added to a permanent list of all F6P concentrations which will be sorted an\n",
      "    F6ps.append(f6p)"
     ],
     "language": "python",
     "metadata": {},
     "outputs": [
      {
       "output_type": "stream",
       "stream": "stdout",
       "text": [
        "LSODA time for 200 points: 0.184586048126\n",
        "LSODA time for 200 points: 0.108495950699"
       ]
      },
      {
       "output_type": "stream",
       "stream": "stdout",
       "text": [
        "\n",
        "LSODA time for 200 points: 0.0956768989563"
       ]
      },
      {
       "output_type": "stream",
       "stream": "stdout",
       "text": [
        "\n",
        "LSODA time for 200 points: 0.109159946442"
       ]
      },
      {
       "output_type": "stream",
       "stream": "stdout",
       "text": [
        "\n",
        "LSODA time for 200 points: 0.143988132477"
       ]
      },
      {
       "output_type": "stream",
       "stream": "stdout",
       "text": [
        "\n",
        "LSODA time for 200 points: 0.121140003204"
       ]
      },
      {
       "output_type": "stream",
       "stream": "stdout",
       "text": [
        "\n",
        "LSODA time for 200 points: 0.0868740081787"
       ]
      },
      {
       "output_type": "stream",
       "stream": "stdout",
       "text": [
        "\n",
        "LSODA time for 200 points: 0.0868949890137"
       ]
      },
      {
       "output_type": "stream",
       "stream": "stdout",
       "text": [
        "\n",
        "LSODA time for 200 points: 0.0811820030212"
       ]
      },
      {
       "output_type": "stream",
       "stream": "stdout",
       "text": [
        "\n",
        "LSODA time for 200 points: 0.0878760814667"
       ]
      },
      {
       "output_type": "stream",
       "stream": "stdout",
       "text": [
        "\n",
        "LSODA time for 200 points: 0.102555036545"
       ]
      },
      {
       "output_type": "stream",
       "stream": "stdout",
       "text": [
        "\n",
        "LSODA time for 200 points: 0.0836079120636"
       ]
      },
      {
       "output_type": "stream",
       "stream": "stdout",
       "text": [
        "\n",
        "LSODA time for 200 points: 0.0586199760437"
       ]
      },
      {
       "output_type": "stream",
       "stream": "stdout",
       "text": [
        "\n",
        "LSODA time for 200 points: 0.0991470813751"
       ]
      },
      {
       "output_type": "stream",
       "stream": "stdout",
       "text": [
        "\n",
        "LSODA time for 200 points: 0.0907940864563"
       ]
      },
      {
       "output_type": "stream",
       "stream": "stdout",
       "text": [
        "\n",
        "LSODA time for 200 points: 0.103170871735"
       ]
      },
      {
       "output_type": "stream",
       "stream": "stdout",
       "text": [
        "\n",
        "LSODA time for 200 points: 0.100697994232"
       ]
      },
      {
       "output_type": "stream",
       "stream": "stdout",
       "text": [
        "\n",
        "LSODA time for 200 points: 0.116642951965"
       ]
      },
      {
       "output_type": "stream",
       "stream": "stdout",
       "text": [
        "\n",
        "LSODA time for 200 points: 0.09974193573"
       ]
      },
      {
       "output_type": "stream",
       "stream": "stdout",
       "text": [
        "\n",
        "LSODA time for 200 points: 0.0940971374512"
       ]
      },
      {
       "output_type": "stream",
       "stream": "stdout",
       "text": [
        "\n",
        "LSODA time for 200 points: 0.091315984726"
       ]
      },
      {
       "output_type": "stream",
       "stream": "stdout",
       "text": [
        "\n",
        "LSODA time for 200 points: 0.0879969596863"
       ]
      },
      {
       "output_type": "stream",
       "stream": "stdout",
       "text": [
        "\n",
        "LSODA time for 200 points: 0.0883169174194"
       ]
      },
      {
       "output_type": "stream",
       "stream": "stdout",
       "text": [
        "\n",
        "LSODA time for 200 points: 0.0959169864655"
       ]
      },
      {
       "output_type": "stream",
       "stream": "stdout",
       "text": [
        "\n",
        "LSODA time for 200 points: 0.104087114334"
       ]
      },
      {
       "output_type": "stream",
       "stream": "stdout",
       "text": [
        "\n",
        "LSODA time for 200 points: 0.166188001633"
       ]
      },
      {
       "output_type": "stream",
       "stream": "stdout",
       "text": [
        "\n",
        "LSODA time for 200 points: 0.172718048096"
       ]
      },
      {
       "output_type": "stream",
       "stream": "stdout",
       "text": [
        "\n",
        "LSODA time for 200 points: 0.161275863647"
       ]
      },
      {
       "output_type": "stream",
       "stream": "stdout",
       "text": [
        "\n",
        "LSODA time for 200 points: 0.147996902466"
       ]
      },
      {
       "output_type": "stream",
       "stream": "stdout",
       "text": [
        "\n",
        "LSODA time for 200 points: 0.0928659439087"
       ]
      },
      {
       "output_type": "stream",
       "stream": "stdout",
       "text": [
        "\n",
        "LSODA time for 200 points: 0.115962982178"
       ]
      },
      {
       "output_type": "stream",
       "stream": "stdout",
       "text": [
        "\n",
        "LSODA time for 200 points: 0.0920979976654"
       ]
      },
      {
       "output_type": "stream",
       "stream": "stdout",
       "text": [
        "\n",
        "LSODA time for 200 points: 0.0910840034485"
       ]
      },
      {
       "output_type": "stream",
       "stream": "stdout",
       "text": [
        "\n",
        "LSODA time for 200 points: 0.0869419574738"
       ]
      },
      {
       "output_type": "stream",
       "stream": "stdout",
       "text": [
        "\n",
        "LSODA time for 200 points: 0.160469055176"
       ]
      },
      {
       "output_type": "stream",
       "stream": "stdout",
       "text": [
        "\n",
        "LSODA time for 200 points: 0.16001701355"
       ]
      },
      {
       "output_type": "stream",
       "stream": "stdout",
       "text": [
        "\n",
        "LSODA time for 200 points: 0.140199184418"
       ]
      },
      {
       "output_type": "stream",
       "stream": "stdout",
       "text": [
        "\n",
        "LSODA time for 200 points: 0.154952049255"
       ]
      },
      {
       "output_type": "stream",
       "stream": "stdout",
       "text": [
        "\n",
        "LSODA time for 200 points: 0.152851104736"
       ]
      },
      {
       "output_type": "stream",
       "stream": "stdout",
       "text": [
        "\n",
        "LSODA time for 200 points: 0.100807189941"
       ]
      },
      {
       "output_type": "stream",
       "stream": "stdout",
       "text": [
        "\n",
        "LSODA time for 200 points: 0.0905199050903"
       ]
      },
      {
       "output_type": "stream",
       "stream": "stdout",
       "text": [
        "\n",
        "LSODA time for 200 points: 0.0933401584625"
       ]
      },
      {
       "output_type": "stream",
       "stream": "stdout",
       "text": [
        "\n",
        "LSODA time for 200 points: 0.0678188800812"
       ]
      },
      {
       "output_type": "stream",
       "stream": "stdout",
       "text": [
        "\n",
        "LSODA time for 200 points: 0.111829996109"
       ]
      },
      {
       "output_type": "stream",
       "stream": "stdout",
       "text": [
        "\n",
        "LSODA time for 200 points: 0.0999789237976"
       ]
      },
      {
       "output_type": "stream",
       "stream": "stdout",
       "text": [
        "\n",
        "LSODA time for 200 points: 0.0896430015564"
       ]
      },
      {
       "output_type": "stream",
       "stream": "stdout",
       "text": [
        "\n",
        "LSODA time for 200 points: 0.0883219242096"
       ]
      },
      {
       "output_type": "stream",
       "stream": "stdout",
       "text": [
        "\n",
        "LSODA time for 200 points: 0.0915470123291"
       ]
      },
      {
       "output_type": "stream",
       "stream": "stdout",
       "text": [
        "\n",
        "LSODA time for 200 points: 0.0851159095764"
       ]
      },
      {
       "output_type": "stream",
       "stream": "stdout",
       "text": [
        "\n",
        "LSODA time for 200 points: 0.0916330814362"
       ]
      },
      {
       "output_type": "stream",
       "stream": "stdout",
       "text": [
        "\n",
        "LSODA time for 200 points: 0.100358963013"
       ]
      },
      {
       "output_type": "stream",
       "stream": "stdout",
       "text": [
        "\n",
        "LSODA time for 200 points: 0.0879969596863"
       ]
      },
      {
       "output_type": "stream",
       "stream": "stdout",
       "text": [
        "\n",
        "LSODA time for 200 points: 0.0939490795135"
       ]
      },
      {
       "output_type": "stream",
       "stream": "stdout",
       "text": [
        "\n",
        "LSODA time for 200 points: 0.0996191501617"
       ]
      },
      {
       "output_type": "stream",
       "stream": "stdout",
       "text": [
        "\n",
        "LSODA time for 200 points: 0.0949678421021"
       ]
      },
      {
       "output_type": "stream",
       "stream": "stdout",
       "text": [
        "\n",
        "LSODA time for 200 points: 0.0895969867706"
       ]
      },
      {
       "output_type": "stream",
       "stream": "stdout",
       "text": [
        "\n",
        "LSODA time for 200 points: 0.0859031677246"
       ]
      },
      {
       "output_type": "stream",
       "stream": "stdout",
       "text": [
        "\n",
        "LSODA time for 200 points: 0.051481962204"
       ]
      },
      {
       "output_type": "stream",
       "stream": "stdout",
       "text": [
        "\n",
        "LSODA time for 200 points: 0.0944769382477"
       ]
      },
      {
       "output_type": "stream",
       "stream": "stdout",
       "text": [
        "\n",
        "LSODA time for 200 points: 0.0845971107483"
       ]
      },
      {
       "output_type": "stream",
       "stream": "stdout",
       "text": [
        "\n",
        "LSODA time for 200 points: 0.0884521007538"
       ]
      },
      {
       "output_type": "stream",
       "stream": "stdout",
       "text": [
        "\n",
        "LSODA time for 200 points: 0.0760469436646"
       ]
      },
      {
       "output_type": "stream",
       "stream": "stdout",
       "text": [
        "\n",
        "LSODA time for 200 points: 0.0923969745636"
       ]
      },
      {
       "output_type": "stream",
       "stream": "stdout",
       "text": [
        "\n",
        "LSODA time for 200 points: 0.0487420558929\n",
        "LSODA time for 200 points: 0.0389709472656"
       ]
      },
      {
       "output_type": "stream",
       "stream": "stdout",
       "text": [
        "\n",
        "LSODA time for 200 points: 0.0871210098267"
       ]
      },
      {
       "output_type": "stream",
       "stream": "stdout",
       "text": [
        "\n",
        "LSODA time for 200 points: 0.108262062073"
       ]
      },
      {
       "output_type": "stream",
       "stream": "stdout",
       "text": [
        "\n",
        "LSODA time for 200 points: 0.090959072113"
       ]
      },
      {
       "output_type": "stream",
       "stream": "stdout",
       "text": [
        "\n",
        "LSODA time for 200 points: 0.103343963623"
       ]
      },
      {
       "output_type": "stream",
       "stream": "stdout",
       "text": [
        "\n",
        "LSODA time for 200 points: 0.098002910614"
       ]
      },
      {
       "output_type": "stream",
       "stream": "stdout",
       "text": [
        "\n",
        "LSODA time for 200 points: 0.0880520343781"
       ]
      },
      {
       "output_type": "stream",
       "stream": "stdout",
       "text": [
        "\n",
        "LSODA time for 200 points: 0.0841829776764"
       ]
      },
      {
       "output_type": "stream",
       "stream": "stdout",
       "text": [
        "\n",
        "LSODA time for 200 points: 0.0840439796448"
       ]
      },
      {
       "output_type": "stream",
       "stream": "stdout",
       "text": [
        "\n",
        "LSODA time for 200 points: 0.0981061458588"
       ]
      },
      {
       "output_type": "stream",
       "stream": "stdout",
       "text": [
        "\n",
        "LSODA time for 200 points: 0.093624830246"
       ]
      },
      {
       "output_type": "stream",
       "stream": "stdout",
       "text": [
        "\n",
        "LSODA time for 200 points: 0.0551378726959"
       ]
      },
      {
       "output_type": "stream",
       "stream": "stdout",
       "text": [
        "\n",
        "LSODA time for 200 points: 0.0832540988922"
       ]
      },
      {
       "output_type": "stream",
       "stream": "stdout",
       "text": [
        "\n",
        "LSODA time for 200 points: 0.0936629772186"
       ]
      },
      {
       "output_type": "stream",
       "stream": "stdout",
       "text": [
        "\n",
        "LSODA time for 200 points: 0.130610942841"
       ]
      },
      {
       "output_type": "stream",
       "stream": "stdout",
       "text": [
        "\n",
        "LSODA time for 200 points: 0.118510007858"
       ]
      },
      {
       "output_type": "stream",
       "stream": "stdout",
       "text": [
        "\n",
        "LSODA time for 200 points: 0.101657867432"
       ]
      },
      {
       "output_type": "stream",
       "stream": "stdout",
       "text": [
        "\n",
        "LSODA time for 200 points: 0.100039958954"
       ]
      },
      {
       "output_type": "stream",
       "stream": "stdout",
       "text": [
        "\n",
        "LSODA time for 200 points: 0.0825300216675"
       ]
      },
      {
       "output_type": "stream",
       "stream": "stdout",
       "text": [
        "\n",
        "LSODA time for 200 points: 0.0502588748932"
       ]
      },
      {
       "output_type": "stream",
       "stream": "stdout",
       "text": [
        "\n",
        "LSODA time for 200 points: 0.0881581306458"
       ]
      },
      {
       "output_type": "stream",
       "stream": "stdout",
       "text": [
        "\n",
        "LSODA time for 200 points: 0.060595035553"
       ]
      },
      {
       "output_type": "stream",
       "stream": "stdout",
       "text": [
        "\n",
        "LSODA time for 200 points: 0.103329181671"
       ]
      },
      {
       "output_type": "stream",
       "stream": "stdout",
       "text": [
        "\n",
        "LSODA time for 200 points: 0.106374979019"
       ]
      },
      {
       "output_type": "stream",
       "stream": "stdout",
       "text": [
        "\n",
        "LSODA time for 200 points: 0.110171079636"
       ]
      },
      {
       "output_type": "stream",
       "stream": "stdout",
       "text": [
        "\n",
        "LSODA time for 200 points: 0.0908699035645"
       ]
      },
      {
       "output_type": "stream",
       "stream": "stdout",
       "text": [
        "\n",
        "LSODA time for 200 points: 0.0491840839386\n",
        "LSODA time for 200 points: 0.0856559276581"
       ]
      },
      {
       "output_type": "stream",
       "stream": "stdout",
       "text": [
        "\n",
        "LSODA time for 200 points: 0.0880589485168"
       ]
      },
      {
       "output_type": "stream",
       "stream": "stdout",
       "text": [
        "\n",
        "LSODA time for 200 points: 0.0860891342163"
       ]
      },
      {
       "output_type": "stream",
       "stream": "stdout",
       "text": [
        "\n",
        "LSODA time for 200 points: 0.0595569610596"
       ]
      },
      {
       "output_type": "stream",
       "stream": "stdout",
       "text": [
        "\n",
        "LSODA time for 200 points: 0.0863139629364"
       ]
      },
      {
       "output_type": "stream",
       "stream": "stdout",
       "text": [
        "\n",
        "LSODA time for 200 points: 0.125286817551"
       ]
      },
      {
       "output_type": "stream",
       "stream": "stdout",
       "text": [
        "\n",
        "LSODA time for 200 points: 0.176583051682"
       ]
      },
      {
       "output_type": "stream",
       "stream": "stdout",
       "text": [
        "\n",
        "LSODA time for 200 points: 0.153995037079"
       ]
      },
      {
       "output_type": "stream",
       "stream": "stdout",
       "text": [
        "\n",
        "LSODA time for 200 points: 0.165318965912"
       ]
      },
      {
       "output_type": "stream",
       "stream": "stdout",
       "text": [
        "\n",
        "LSODA time for 200 points: 0.0919580459595"
       ]
      },
      {
       "output_type": "stream",
       "stream": "stdout",
       "text": [
        "\n",
        "LSODA time for 200 points: 0.142030000687"
       ]
      },
      {
       "output_type": "stream",
       "stream": "stdout",
       "text": [
        "\n",
        "LSODA time for 200 points: 0.0924189090729"
       ]
      },
      {
       "output_type": "stream",
       "stream": "stdout",
       "text": [
        "\n",
        "LSODA time for 200 points: 0.0517189502716"
       ]
      },
      {
       "output_type": "stream",
       "stream": "stdout",
       "text": [
        "\n",
        "LSODA time for 200 points: 0.0970809459686"
       ]
      },
      {
       "output_type": "stream",
       "stream": "stdout",
       "text": [
        "\n",
        "LSODA time for 200 points: 0.0876250267029"
       ]
      },
      {
       "output_type": "stream",
       "stream": "stdout",
       "text": [
        "\n",
        "LSODA time for 200 points: 0.150535106659"
       ]
      },
      {
       "output_type": "stream",
       "stream": "stdout",
       "text": [
        "\n",
        "LSODA time for 200 points: 0.178868055344"
       ]
      },
      {
       "output_type": "stream",
       "stream": "stdout",
       "text": [
        "\n",
        "LSODA time for 200 points: 0.205033779144"
       ]
      },
      {
       "output_type": "stream",
       "stream": "stdout",
       "text": [
        "\n",
        "LSODA time for 200 points: 0.122676134109"
       ]
      },
      {
       "output_type": "stream",
       "stream": "stdout",
       "text": [
        "\n",
        "LSODA time for 200 points: 0.179350137711"
       ]
      },
      {
       "output_type": "stream",
       "stream": "stdout",
       "text": [
        "\n",
        "LSODA time for 200 points: 0.0958368778229"
       ]
      },
      {
       "output_type": "stream",
       "stream": "stdout",
       "text": [
        "\n",
        "LSODA time for 200 points: 0.0877509117126"
       ]
      },
      {
       "output_type": "stream",
       "stream": "stdout",
       "text": [
        "\n",
        "LSODA time for 200 points: 0.0919549465179"
       ]
      },
      {
       "output_type": "stream",
       "stream": "stdout",
       "text": [
        "\n",
        "LSODA time for 200 points: 0.10119509697"
       ]
      },
      {
       "output_type": "stream",
       "stream": "stdout",
       "text": [
        "\n",
        "LSODA time for 200 points: 0.097384929657"
       ]
      },
      {
       "output_type": "stream",
       "stream": "stdout",
       "text": [
        "\n",
        "LSODA time for 200 points: 0.0572791099548"
       ]
      },
      {
       "output_type": "stream",
       "stream": "stdout",
       "text": [
        "\n",
        "LSODA time for 200 points: 0.0733449459076"
       ]
      },
      {
       "output_type": "stream",
       "stream": "stdout",
       "text": [
        "\n",
        "LSODA time for 200 points: 0.110441923141"
       ]
      },
      {
       "output_type": "stream",
       "stream": "stdout",
       "text": [
        "\n",
        "LSODA time for 200 points: 0.0926880836487"
       ]
      },
      {
       "output_type": "stream",
       "stream": "stdout",
       "text": [
        "\n",
        "LSODA time for 200 points: 0.0955212116241"
       ]
      },
      {
       "output_type": "stream",
       "stream": "stdout",
       "text": [
        "\n",
        "LSODA time for 200 points: 0.106182098389"
       ]
      },
      {
       "output_type": "stream",
       "stream": "stdout",
       "text": [
        "\n",
        "LSODA time for 200 points: 0.0846869945526"
       ]
      },
      {
       "output_type": "stream",
       "stream": "stdout",
       "text": [
        "\n",
        "LSODA time for 200 points: 0.0822010040283"
       ]
      },
      {
       "output_type": "stream",
       "stream": "stdout",
       "text": [
        "\n",
        "LSODA time for 200 points: 0.094419002533"
       ]
      },
      {
       "output_type": "stream",
       "stream": "stdout",
       "text": [
        "\n",
        "LSODA time for 200 points: 0.0938041210175"
       ]
      },
      {
       "output_type": "stream",
       "stream": "stdout",
       "text": [
        "\n",
        "LSODA time for 200 points: 0.101043224335"
       ]
      },
      {
       "output_type": "stream",
       "stream": "stdout",
       "text": [
        "\n",
        "LSODA time for 200 points: 0.0858681201935"
       ]
      },
      {
       "output_type": "stream",
       "stream": "stdout",
       "text": [
        "\n",
        "LSODA time for 200 points: 0.0851719379425"
       ]
      },
      {
       "output_type": "stream",
       "stream": "stdout",
       "text": [
        "\n",
        "LSODA time for 200 points: 0.0984179973602"
       ]
      },
      {
       "output_type": "stream",
       "stream": "stdout",
       "text": [
        "\n",
        "LSODA time for 200 points: 0.127403974533"
       ]
      },
      {
       "output_type": "stream",
       "stream": "stdout",
       "text": [
        "\n",
        "LSODA time for 200 points: 0.0898630619049"
       ]
      },
      {
       "output_type": "stream",
       "stream": "stdout",
       "text": [
        "\n",
        "LSODA time for 200 points: 0.102216005325"
       ]
      },
      {
       "output_type": "stream",
       "stream": "stdout",
       "text": [
        "\n",
        "LSODA time for 200 points: 0.0947360992432"
       ]
      },
      {
       "output_type": "stream",
       "stream": "stdout",
       "text": [
        "\n",
        "LSODA time for 200 points: 0.089595079422"
       ]
      },
      {
       "output_type": "stream",
       "stream": "stdout",
       "text": [
        "\n",
        "LSODA time for 200 points: 0.0997080802917"
       ]
      },
      {
       "output_type": "stream",
       "stream": "stdout",
       "text": [
        "\n",
        "LSODA time for 200 points: 0.0807218551636"
       ]
      },
      {
       "output_type": "stream",
       "stream": "stdout",
       "text": [
        "\n",
        "LSODA time for 200 points: 0.0663311481476"
       ]
      },
      {
       "output_type": "stream",
       "stream": "stdout",
       "text": [
        "\n",
        "LSODA time for 200 points: 0.0842599868774"
       ]
      },
      {
       "output_type": "stream",
       "stream": "stdout",
       "text": [
        "\n",
        "LSODA time for 200 points: 0.0927081108093"
       ]
      },
      {
       "output_type": "stream",
       "stream": "stdout",
       "text": [
        "\n",
        "LSODA time for 200 points: 0.0887689590454"
       ]
      },
      {
       "output_type": "stream",
       "stream": "stdout",
       "text": [
        "\n",
        "LSODA time for 200 points: 0.0869641304016"
       ]
      },
      {
       "output_type": "stream",
       "stream": "stdout",
       "text": [
        "\n",
        "LSODA time for 200 points: 0.0895910263062"
       ]
      },
      {
       "output_type": "stream",
       "stream": "stdout",
       "text": [
        "\n",
        "LSODA time for 200 points: 0.0900859832764"
       ]
      },
      {
       "output_type": "stream",
       "stream": "stdout",
       "text": [
        "\n",
        "LSODA time for 200 points: 0.100789070129"
       ]
      },
      {
       "output_type": "stream",
       "stream": "stdout",
       "text": [
        "\n",
        "LSODA time for 200 points: 0.0803191661835"
       ]
      },
      {
       "output_type": "stream",
       "stream": "stdout",
       "text": [
        "\n",
        "LSODA time for 200 points: 0.100067138672"
       ]
      },
      {
       "output_type": "stream",
       "stream": "stdout",
       "text": [
        "\n",
        "LSODA time for 200 points: 0.0916330814362"
       ]
      },
      {
       "output_type": "stream",
       "stream": "stdout",
       "text": [
        "\n",
        "LSODA time for 200 points: 0.0887598991394"
       ]
      },
      {
       "output_type": "stream",
       "stream": "stdout",
       "text": [
        "\n",
        "LSODA time for 200 points: 0.0800518989563"
       ]
      },
      {
       "output_type": "stream",
       "stream": "stdout",
       "text": [
        "\n",
        "LSODA time for 200 points: 0.0932378768921"
       ]
      },
      {
       "output_type": "stream",
       "stream": "stdout",
       "text": [
        "\n",
        "LSODA time for 200 points: 0.0915629863739"
       ]
      },
      {
       "output_type": "stream",
       "stream": "stdout",
       "text": [
        "\n",
        "LSODA time for 200 points: 0.0813300609589"
       ]
      },
      {
       "output_type": "stream",
       "stream": "stdout",
       "text": [
        "\n",
        "LSODA time for 200 points: 0.0907390117645"
       ]
      },
      {
       "output_type": "stream",
       "stream": "stdout",
       "text": [
        "\n",
        "LSODA time for 200 points: 0.0915479660034"
       ]
      },
      {
       "output_type": "stream",
       "stream": "stdout",
       "text": [
        "\n",
        "LSODA time for 200 points: 0.103384017944"
       ]
      },
      {
       "output_type": "stream",
       "stream": "stdout",
       "text": [
        "\n",
        "LSODA time for 200 points: 0.0952920913696"
       ]
      },
      {
       "output_type": "stream",
       "stream": "stdout",
       "text": [
        "\n",
        "LSODA time for 200 points: 0.0910670757294"
       ]
      },
      {
       "output_type": "stream",
       "stream": "stdout",
       "text": [
        "\n",
        "LSODA time for 200 points: 0.105623006821"
       ]
      },
      {
       "output_type": "stream",
       "stream": "stdout",
       "text": [
        "\n",
        "LSODA time for 200 points: 0.0982999801636"
       ]
      },
      {
       "output_type": "stream",
       "stream": "stdout",
       "text": [
        "\n",
        "LSODA time for 200 points: 0.0883629322052"
       ]
      },
      {
       "output_type": "stream",
       "stream": "stdout",
       "text": [
        "\n",
        "LSODA time for 200 points: 0.0893950462341"
       ]
      },
      {
       "output_type": "stream",
       "stream": "stdout",
       "text": [
        "\n",
        "LSODA time for 200 points: 0.0888779163361"
       ]
      },
      {
       "output_type": "stream",
       "stream": "stdout",
       "text": [
        "\n",
        "LSODA time for 200 points: 0.0933790206909"
       ]
      },
      {
       "output_type": "stream",
       "stream": "stdout",
       "text": [
        "\n",
        "LSODA time for 200 points: 0.101154088974"
       ]
      },
      {
       "output_type": "stream",
       "stream": "stdout",
       "text": [
        "\n",
        "LSODA time for 200 points: 0.139472961426"
       ]
      },
      {
       "output_type": "stream",
       "stream": "stdout",
       "text": [
        "\n",
        "LSODA time for 200 points: 0.135483026505"
       ]
      },
      {
       "output_type": "stream",
       "stream": "stdout",
       "text": [
        "\n",
        "LSODA time for 200 points: 0.156180143356"
       ]
      },
      {
       "output_type": "stream",
       "stream": "stdout",
       "text": [
        "\n",
        "LSODA time for 200 points: 0.1266310215"
       ]
      },
      {
       "output_type": "stream",
       "stream": "stdout",
       "text": [
        "\n",
        "LSODA time for 200 points: 0.179074048996"
       ]
      },
      {
       "output_type": "stream",
       "stream": "stdout",
       "text": [
        "\n",
        "LSODA time for 200 points: 0.113070964813"
       ]
      },
      {
       "output_type": "stream",
       "stream": "stdout",
       "text": [
        "\n",
        "LSODA time for 200 points: 0.0906331539154"
       ]
      },
      {
       "output_type": "stream",
       "stream": "stdout",
       "text": [
        "\n",
        "LSODA time for 200 points: 0.0583739280701"
       ]
      },
      {
       "output_type": "stream",
       "stream": "stdout",
       "text": [
        "\n",
        "LSODA time for 200 points: 0.0453300476074\n",
        "LSODA time for 200 points: 0.0795691013336"
       ]
      },
      {
       "output_type": "stream",
       "stream": "stdout",
       "text": [
        "\n",
        "LSODA time for 200 points: 0.154307842255"
       ]
      },
      {
       "output_type": "stream",
       "stream": "stdout",
       "text": [
        "\n",
        "LSODA time for 200 points: 0.0624449253082"
       ]
      },
      {
       "output_type": "stream",
       "stream": "stdout",
       "text": [
        "\n",
        "LSODA time for 200 points: 0.181028842926"
       ]
      },
      {
       "output_type": "stream",
       "stream": "stdout",
       "text": [
        "\n",
        "LSODA time for 200 points: 0.140165090561"
       ]
      },
      {
       "output_type": "stream",
       "stream": "stdout",
       "text": [
        "\n",
        "LSODA time for 200 points: 0.120321035385"
       ]
      },
      {
       "output_type": "stream",
       "stream": "stdout",
       "text": [
        "\n",
        "LSODA time for 200 points: 0.146008968353"
       ]
      },
      {
       "output_type": "stream",
       "stream": "stdout",
       "text": [
        "\n",
        "LSODA time for 200 points: 0.112267971039"
       ]
      },
      {
       "output_type": "stream",
       "stream": "stdout",
       "text": [
        "\n",
        "LSODA time for 200 points: 0.0690979957581"
       ]
      },
      {
       "output_type": "stream",
       "stream": "stdout",
       "text": [
        "\n",
        "LSODA time for 200 points: 0.0905930995941"
       ]
      },
      {
       "output_type": "stream",
       "stream": "stdout",
       "text": [
        "\n",
        "LSODA time for 200 points: 0.105396986008"
       ]
      },
      {
       "output_type": "stream",
       "stream": "stdout",
       "text": [
        "\n",
        "LSODA time for 200 points: 0.087641954422"
       ]
      },
      {
       "output_type": "stream",
       "stream": "stdout",
       "text": [
        "\n",
        "LSODA time for 200 points: 0.0848729610443"
       ]
      },
      {
       "output_type": "stream",
       "stream": "stdout",
       "text": [
        "\n",
        "LSODA time for 200 points: 0.0972430706024"
       ]
      },
      {
       "output_type": "stream",
       "stream": "stdout",
       "text": [
        "\n",
        "LSODA time for 200 points: 0.104660987854"
       ]
      },
      {
       "output_type": "stream",
       "stream": "stdout",
       "text": [
        "\n",
        "LSODA time for 200 points: 0.0893309116364"
       ]
      },
      {
       "output_type": "stream",
       "stream": "stdout",
       "text": [
        "\n",
        "LSODA time for 200 points: 0.0993897914886"
       ]
      },
      {
       "output_type": "stream",
       "stream": "stdout",
       "text": [
        "\n",
        "LSODA time for 200 points: 0.0854971408844"
       ]
      },
      {
       "output_type": "stream",
       "stream": "stdout",
       "text": [
        "\n",
        "LSODA time for 200 points: 0.0823209285736"
       ]
      },
      {
       "output_type": "stream",
       "stream": "stdout",
       "text": [
        "\n",
        "LSODA time for 200 points: 0.046443939209\n",
        "LSODA time for 200 points: 0.0910069942474"
       ]
      },
      {
       "output_type": "stream",
       "stream": "stdout",
       "text": [
        "\n",
        "LSODA time for 200 points: 0.0956659317017"
       ]
      },
      {
       "output_type": "stream",
       "stream": "stdout",
       "text": [
        "\n",
        "LSODA time for 200 points: 0.0882098674774"
       ]
      },
      {
       "output_type": "stream",
       "stream": "stdout",
       "text": [
        "\n",
        "LSODA time for 200 points: 0.103624820709"
       ]
      },
      {
       "output_type": "stream",
       "stream": "stdout",
       "text": [
        "\n",
        "LSODA time for 200 points: 0.118653059006"
       ]
      },
      {
       "output_type": "stream",
       "stream": "stdout",
       "text": [
        "\n",
        "LSODA time for 200 points: 0.097277879715"
       ]
      },
      {
       "output_type": "stream",
       "stream": "stdout",
       "text": [
        "\n",
        "LSODA time for 200 points: 0.100661039352"
       ]
      },
      {
       "output_type": "stream",
       "stream": "stdout",
       "text": [
        "\n",
        "LSODA time for 200 points: 0.0924479961395"
       ]
      },
      {
       "output_type": "stream",
       "stream": "stdout",
       "text": [
        "\n",
        "LSODA time for 200 points: 0.102038145065"
       ]
      },
      {
       "output_type": "stream",
       "stream": "stdout",
       "text": [
        "\n",
        "LSODA time for 200 points: 0.0965950489044"
       ]
      },
      {
       "output_type": "stream",
       "stream": "stdout",
       "text": [
        "\n",
        "LSODA time for 200 points: 0.0948560237885"
       ]
      },
      {
       "output_type": "stream",
       "stream": "stdout",
       "text": [
        "\n",
        "LSODA time for 200 points: 0.0953829288483"
       ]
      },
      {
       "output_type": "stream",
       "stream": "stdout",
       "text": [
        "\n",
        "LSODA time for 200 points: 0.0995869636536"
       ]
      },
      {
       "output_type": "stream",
       "stream": "stdout",
       "text": [
        "\n",
        "LSODA time for 200 points: 0.0950880050659"
       ]
      },
      {
       "output_type": "stream",
       "stream": "stdout",
       "text": [
        "\n",
        "LSODA time for 200 points: 0.0968599319458"
       ]
      },
      {
       "output_type": "stream",
       "stream": "stdout",
       "text": [
        "\n",
        "LSODA time for 200 points: 0.0918078422546"
       ]
      },
      {
       "output_type": "stream",
       "stream": "stdout",
       "text": [
        "\n",
        "LSODA time for 200 points: 0.105218887329"
       ]
      },
      {
       "output_type": "stream",
       "stream": "stdout",
       "text": [
        "\n",
        "LSODA time for 200 points: 0.114063024521"
       ]
      },
      {
       "output_type": "stream",
       "stream": "stdout",
       "text": [
        "\n",
        "LSODA time for 200 points: 0.0678560733795"
       ]
      },
      {
       "output_type": "stream",
       "stream": "stdout",
       "text": [
        "\n",
        "LSODA time for 200 points: 0.0785450935364"
       ]
      },
      {
       "output_type": "stream",
       "stream": "stdout",
       "text": [
        "\n",
        "LSODA time for 200 points: 0.109329938889"
       ]
      },
      {
       "output_type": "stream",
       "stream": "stdout",
       "text": [
        "\n",
        "LSODA time for 200 points: 0.0971519947052"
       ]
      },
      {
       "output_type": "stream",
       "stream": "stdout",
       "text": [
        "\n",
        "LSODA time for 200 points: 0.0933220386505"
       ]
      },
      {
       "output_type": "stream",
       "stream": "stdout",
       "text": [
        "\n",
        "LSODA time for 200 points: 0.0785918235779"
       ]
      },
      {
       "output_type": "stream",
       "stream": "stdout",
       "text": [
        "\n",
        "LSODA time for 200 points: 0.0531630516052"
       ]
      },
      {
       "output_type": "stream",
       "stream": "stdout",
       "text": [
        "\n",
        "LSODA time for 200 points: 0.072368144989"
       ]
      },
      {
       "output_type": "stream",
       "stream": "stdout",
       "text": [
        "\n",
        "LSODA time for 200 points: 0.101084947586"
       ]
      },
      {
       "output_type": "stream",
       "stream": "stdout",
       "text": [
        "\n",
        "LSODA time for 200 points: 0.0995240211487"
       ]
      },
      {
       "output_type": "stream",
       "stream": "stdout",
       "text": [
        "\n",
        "LSODA time for 200 points: 0.104711055756"
       ]
      },
      {
       "output_type": "stream",
       "stream": "stdout",
       "text": [
        "\n",
        "LSODA time for 200 points: 0.0950529575348"
       ]
      },
      {
       "output_type": "stream",
       "stream": "stdout",
       "text": [
        "\n",
        "LSODA time for 200 points: 0.089723110199"
       ]
      },
      {
       "output_type": "stream",
       "stream": "stdout",
       "text": [
        "\n",
        "LSODA time for 200 points: 0.092915058136"
       ]
      },
      {
       "output_type": "stream",
       "stream": "stdout",
       "text": [
        "\n",
        "LSODA time for 200 points: 0.0511789321899"
       ]
      },
      {
       "output_type": "stream",
       "stream": "stdout",
       "text": [
        "\n",
        "LSODA time for 200 points: 0.113220930099"
       ]
      },
      {
       "output_type": "stream",
       "stream": "stdout",
       "text": [
        "\n",
        "LSODA time for 200 points: 0.112500905991"
       ]
      },
      {
       "output_type": "stream",
       "stream": "stdout",
       "text": [
        "\n",
        "LSODA time for 200 points: 0.0965888500214"
       ]
      },
      {
       "output_type": "stream",
       "stream": "stdout",
       "text": [
        "\n",
        "LSODA time for 200 points: 0.102071046829"
       ]
      },
      {
       "output_type": "stream",
       "stream": "stdout",
       "text": [
        "\n",
        "LSODA time for 200 points: 0.120120048523"
       ]
      },
      {
       "output_type": "stream",
       "stream": "stdout",
       "text": [
        "\n",
        "LSODA time for 200 points: 0.0886979103088"
       ]
      },
      {
       "output_type": "stream",
       "stream": "stdout",
       "text": [
        "\n",
        "LSODA time for 200 points: 0.0878551006317"
       ]
      },
      {
       "output_type": "stream",
       "stream": "stdout",
       "text": [
        "\n",
        "LSODA time for 200 points: 0.102988004684"
       ]
      },
      {
       "output_type": "stream",
       "stream": "stdout",
       "text": [
        "\n",
        "LSODA time for 200 points: 0.1919901371"
       ]
      },
      {
       "output_type": "stream",
       "stream": "stdout",
       "text": [
        "\n",
        "LSODA time for 200 points: 0.182163953781"
       ]
      },
      {
       "output_type": "stream",
       "stream": "stdout",
       "text": [
        "\n",
        "LSODA time for 200 points: 0.126886844635"
       ]
      },
      {
       "output_type": "stream",
       "stream": "stdout",
       "text": [
        "\n",
        "LSODA time for 200 points: 0.163619995117"
       ]
      },
      {
       "output_type": "stream",
       "stream": "stdout",
       "text": [
        "\n",
        "LSODA time for 200 points: 0.124620199203"
       ]
      },
      {
       "output_type": "stream",
       "stream": "stdout",
       "text": [
        "\n",
        "LSODA time for 200 points: 0.112859010696"
       ]
      },
      {
       "output_type": "stream",
       "stream": "stdout",
       "text": [
        "\n",
        "LSODA time for 200 points: 0.0832030773163"
       ]
      },
      {
       "output_type": "stream",
       "stream": "stdout",
       "text": [
        "\n",
        "LSODA time for 200 points: 0.0480849742889\n",
        "LSODA time for 200 points: 0.0931739807129"
       ]
      },
      {
       "output_type": "stream",
       "stream": "stdout",
       "text": [
        "\n",
        "LSODA time for 200 points: 0.168037891388"
       ]
      },
      {
       "output_type": "stream",
       "stream": "stdout",
       "text": [
        "\n",
        "LSODA time for 200 points: 0.146692037582"
       ]
      },
      {
       "output_type": "stream",
       "stream": "stdout",
       "text": [
        "\n",
        "LSODA time for 200 points: 0.129441976547"
       ]
      },
      {
       "output_type": "stream",
       "stream": "stdout",
       "text": [
        "\n",
        "LSODA time for 200 points: 0.144866943359"
       ]
      },
      {
       "output_type": "stream",
       "stream": "stdout",
       "text": [
        "\n",
        "LSODA time for 200 points: 0.0763468742371"
       ]
      },
      {
       "output_type": "stream",
       "stream": "stdout",
       "text": [
        "\n",
        "LSODA time for 200 points: 0.149129867554"
       ]
      },
      {
       "output_type": "stream",
       "stream": "stdout",
       "text": [
        "\n",
        "LSODA time for 200 points: 0.116055965424"
       ]
      },
      {
       "output_type": "stream",
       "stream": "stdout",
       "text": [
        "\n",
        "LSODA time for 200 points: 0.106209993362"
       ]
      },
      {
       "output_type": "stream",
       "stream": "stdout",
       "text": [
        "\n",
        "LSODA time for 200 points: 0.0885698795319"
       ]
      },
      {
       "output_type": "stream",
       "stream": "stdout",
       "text": [
        "\n",
        "LSODA time for 200 points: 0.0954651832581"
       ]
      },
      {
       "output_type": "stream",
       "stream": "stdout",
       "text": [
        "\n",
        "LSODA time for 200 points: 0.091570854187"
       ]
      },
      {
       "output_type": "stream",
       "stream": "stdout",
       "text": [
        "\n",
        "LSODA time for 200 points: 0.104333877563"
       ]
      },
      {
       "output_type": "stream",
       "stream": "stdout",
       "text": [
        "\n",
        "LSODA time for 200 points: 0.107001066208"
       ]
      },
      {
       "output_type": "stream",
       "stream": "stdout",
       "text": [
        "\n",
        "LSODA time for 200 points: 0.0983040332794"
       ]
      },
      {
       "output_type": "stream",
       "stream": "stdout",
       "text": [
        "\n",
        "LSODA time for 200 points: 0.090803861618"
       ]
      },
      {
       "output_type": "stream",
       "stream": "stdout",
       "text": [
        "\n",
        "LSODA time for 200 points: 0.0947058200836"
       ]
      },
      {
       "output_type": "stream",
       "stream": "stdout",
       "text": [
        "\n",
        "LSODA time for 200 points: 0.0994157791138"
       ]
      },
      {
       "output_type": "stream",
       "stream": "stdout",
       "text": [
        "\n",
        "LSODA time for 200 points: 0.092306137085"
       ]
      },
      {
       "output_type": "stream",
       "stream": "stdout",
       "text": [
        "\n",
        "LSODA time for 200 points: 0.100968122482"
       ]
      },
      {
       "output_type": "stream",
       "stream": "stdout",
       "text": [
        "\n",
        "LSODA time for 200 points: 0.0800549983978"
       ]
      },
      {
       "output_type": "stream",
       "stream": "stdout",
       "text": [
        "\n",
        "LSODA time for 200 points: 0.0923149585724"
       ]
      },
      {
       "output_type": "stream",
       "stream": "stdout",
       "text": [
        "\n",
        "LSODA time for 200 points: 0.0917038917542"
       ]
      },
      {
       "output_type": "stream",
       "stream": "stdout",
       "text": [
        "\n",
        "LSODA time for 200 points: 0.106871843338"
       ]
      },
      {
       "output_type": "stream",
       "stream": "stdout",
       "text": [
        "\n",
        "LSODA time for 200 points: 0.0599949359894"
       ]
      },
      {
       "output_type": "stream",
       "stream": "stdout",
       "text": [
        "\n",
        "LSODA time for 200 points: 0.100827932358"
       ]
      },
      {
       "output_type": "stream",
       "stream": "stdout",
       "text": [
        "\n",
        "LSODA time for 200 points: 0.0932898521423"
       ]
      },
      {
       "output_type": "stream",
       "stream": "stdout",
       "text": [
        "\n",
        "LSODA time for 200 points: 0.09339594841"
       ]
      },
      {
       "output_type": "stream",
       "stream": "stdout",
       "text": [
        "\n",
        "LSODA time for 200 points: 0.0878250598907"
       ]
      },
      {
       "output_type": "stream",
       "stream": "stdout",
       "text": [
        "\n",
        "LSODA time for 200 points: 0.0891010761261"
       ]
      },
      {
       "output_type": "stream",
       "stream": "stdout",
       "text": [
        "\n",
        "LSODA time for 200 points: 0.106526851654"
       ]
      },
      {
       "output_type": "stream",
       "stream": "stdout",
       "text": [
        "\n",
        "LSODA time for 200 points: 0.0783019065857"
       ]
      },
      {
       "output_type": "stream",
       "stream": "stdout",
       "text": [
        "\n",
        "LSODA time for 200 points: 0.0894749164581"
       ]
      },
      {
       "output_type": "stream",
       "stream": "stdout",
       "text": [
        "\n",
        "LSODA time for 200 points: 0.0674118995667"
       ]
      },
      {
       "output_type": "stream",
       "stream": "stdout",
       "text": [
        "\n",
        "LSODA time for 200 points: 0.0724921226501"
       ]
      },
      {
       "output_type": "stream",
       "stream": "stdout",
       "text": [
        "\n",
        "LSODA time for 200 points: 0.0887339115143"
       ]
      },
      {
       "output_type": "stream",
       "stream": "stdout",
       "text": [
        "\n",
        "LSODA time for 200 points: 0.089751958847"
       ]
      },
      {
       "output_type": "stream",
       "stream": "stdout",
       "text": [
        "\n",
        "LSODA time for 200 points: 0.0842130184174"
       ]
      },
      {
       "output_type": "stream",
       "stream": "stdout",
       "text": [
        "\n",
        "LSODA time for 200 points: 0.0897760391235"
       ]
      },
      {
       "output_type": "stream",
       "stream": "stdout",
       "text": [
        "\n",
        "LSODA time for 200 points: 0.0785369873047"
       ]
      },
      {
       "output_type": "stream",
       "stream": "stdout",
       "text": [
        "\n",
        "LSODA time for 200 points: 0.0913679599762"
       ]
      },
      {
       "output_type": "stream",
       "stream": "stdout",
       "text": [
        "\n",
        "LSODA time for 200 points: 0.0930209159851"
       ]
      },
      {
       "output_type": "stream",
       "stream": "stdout",
       "text": [
        "\n",
        "LSODA time for 200 points: 0.0506451129913"
       ]
      },
      {
       "output_type": "stream",
       "stream": "stdout",
       "text": [
        "\n",
        "LSODA time for 200 points: 0.0928430557251"
       ]
      },
      {
       "output_type": "stream",
       "stream": "stdout",
       "text": [
        "\n",
        "LSODA time for 200 points: 0.108628988266"
       ]
      },
      {
       "output_type": "stream",
       "stream": "stdout",
       "text": [
        "\n",
        "LSODA time for 200 points: 0.0848739147186"
       ]
      },
      {
       "output_type": "stream",
       "stream": "stdout",
       "text": [
        "\n",
        "LSODA time for 200 points: 0.0946600437164"
       ]
      },
      {
       "output_type": "stream",
       "stream": "stdout",
       "text": [
        "\n",
        "LSODA time for 200 points: 0.0949630737305"
       ]
      },
      {
       "output_type": "stream",
       "stream": "stdout",
       "text": [
        "\n",
        "LSODA time for 200 points: 0.0812540054321"
       ]
      },
      {
       "output_type": "stream",
       "stream": "stdout",
       "text": [
        "\n",
        "LSODA time for 200 points: 0.0982480049133"
       ]
      },
      {
       "output_type": "stream",
       "stream": "stdout",
       "text": [
        "\n",
        "LSODA time for 200 points: 0.102948904037"
       ]
      },
      {
       "output_type": "stream",
       "stream": "stdout",
       "text": [
        "\n",
        "LSODA time for 200 points: 0.0933990478516"
       ]
      },
      {
       "output_type": "stream",
       "stream": "stdout",
       "text": [
        "\n",
        "LSODA time for 200 points: 0.101526021957"
       ]
      },
      {
       "output_type": "stream",
       "stream": "stdout",
       "text": [
        "\n",
        "LSODA time for 200 points: 0.0882029533386"
       ]
      },
      {
       "output_type": "stream",
       "stream": "stdout",
       "text": [
        "\n",
        "LSODA time for 200 points: 0.103227853775"
       ]
      },
      {
       "output_type": "stream",
       "stream": "stdout",
       "text": [
        "\n",
        "LSODA time for 200 points: 0.0910608768463"
       ]
      },
      {
       "output_type": "stream",
       "stream": "stdout",
       "text": [
        "\n",
        "LSODA time for 200 points: 0.0907480716705"
       ]
      },
      {
       "output_type": "stream",
       "stream": "stdout",
       "text": [
        "\n"
       ]
      }
     ],
     "prompt_number": 123
    },
    {
     "cell_type": "code",
     "collapsed": false,
     "input": [
      "#Casting\n",
      "F6ps = np.asarray(F6ps)\n",
      "Params = np.asarray(Params)\n",
      "\n",
      "#Sorting\n",
      "indices = F6ps.argsort()\n",
      "Params = Params[indices]\n",
      "F6ps = F6ps[indices]"
     ],
     "language": "python",
     "metadata": {},
     "outputs": [],
     "prompt_number": 124
    },
    {
     "cell_type": "code",
     "collapsed": false,
     "input": [
      "#setting initial parameters to be used for LM simulation\n",
      "pi = Parameters()\n",
      "pi.add('protALDPase', value=Params[-1,0], min=0.0, max=1.0)\n",
      "pi.add('protGAPDH', value=Params[-1,1], min=0.0, max=1.0)\n",
      "pi.add('protPGK', value=Params[-1,2], min=0.0, max=1.0)\n",
      "pi.add('protTIM', value=Params[-1,3], min=0.0, max=1.0)"
     ],
     "language": "python",
     "metadata": {},
     "outputs": [],
     "prompt_number": 125
    },
    {
     "cell_type": "code",
     "collapsed": false,
     "input": [
      "#Run the LM algorithm using lmfit:\n",
      "result = minimize(objFunction,pi)\n",
      "print '\\n',\"The following is the set of enzyme concentrations which result in optimal production of F6P for the reconstituted system:\",'\\n',result.params\n",
      "print '\\n',\"The above parameters result in a theoretical F6P concentration of:\",1/(result.residual[0]),\"ug/mL\""
     ],
     "language": "python",
     "metadata": {},
     "outputs": [
      {
       "output_type": "stream",
       "stream": "stdout",
       "text": [
        "LSODA time for 200 points: 0.0939228534698\n",
        "LSODA time for 200 points: 0.0780651569366"
       ]
      },
      {
       "output_type": "stream",
       "stream": "stdout",
       "text": [
        "\n",
        "LSODA time for 200 points: 0.0893421173096"
       ]
      },
      {
       "output_type": "stream",
       "stream": "stdout",
       "text": [
        "\n",
        "LSODA time for 200 points: 0.083606004715"
       ]
      },
      {
       "output_type": "stream",
       "stream": "stdout",
       "text": [
        "\n",
        "LSODA time for 200 points: 0.104809045792"
       ]
      },
      {
       "output_type": "stream",
       "stream": "stdout",
       "text": [
        "\n",
        "LSODA time for 200 points: 0.140981912613"
       ]
      },
      {
       "output_type": "stream",
       "stream": "stdout",
       "text": [
        "\n",
        "LSODA time for 200 points: 0.121235847473"
       ]
      },
      {
       "output_type": "stream",
       "stream": "stdout",
       "text": [
        "\n",
        "\n",
        "The following is the set of enzyme concentrations which result in optimal production of F6P for the reconstituted system: \n",
        "Parameters([('protALDPase', <Parameter 'protALDPase', value=0.02925462813320262 +/- 0, bounds=[0.0:1.0]>), ('protGAPDH', <Parameter 'protGAPDH', value=0.0090964390649033167 +/- 0, bounds=[0.0:1.0]>), ('protPGK', <Parameter 'protPGK', value=0.0057935614772832156 +/- 0, bounds=[0.0:1.0]>), ('protTIM', <Parameter 'protTIM', value=0.0058053729301743018 +/- 0, bounds=[0.0:1.0]>)])\n",
        "\n",
        "The above parameters result in a theoretical F6P concentration of: 0.90082 ug/mL\n"
       ]
      }
     ],
     "prompt_number": 126
    },
    {
     "cell_type": "code",
     "collapsed": false,
     "input": [
      "#A graph is created below to show the results from the Monte Carlo approach\n",
      "\n",
      "plt.plot(F6ps, 'r.')\n",
      "plt.ylabel('F6p concentration (ug/mL)')\n",
      "plt.xlabel('Iteration number (ordered)')\n",
      "plt.show()"
     ],
     "language": "python",
     "metadata": {},
     "outputs": [],
     "prompt_number": 127
    },
    {
     "cell_type": "code",
     "collapsed": false,
     "input": [],
     "language": "python",
     "metadata": {},
     "outputs": [],
     "prompt_number": 127
    }
   ],
   "metadata": {}
  }
 ]
}